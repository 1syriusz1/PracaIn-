{
 "cells": [
  {
   "metadata": {},
   "cell_type": "markdown",
   "source": "Import wszystkich wymaganych bibliotek, metod oraz modeli, a także pobranie danych operacyjnych",
   "id": "797760787c997c6a"
  },
  {
   "cell_type": "code",
   "id": "initial_id",
   "metadata": {
    "collapsed": true,
    "ExecuteTime": {
     "end_time": "2024-10-05T14:54:27.881812Z",
     "start_time": "2024-10-05T14:54:27.872498Z"
    }
   },
   "source": [
    "import numpy as np # algebra liniowa\n",
    "import pandas as pd # przetwarzanie danych, operacje na plikach CSV (np. pd.loc[])\n",
    "\n",
    "from sklearn.metrics import confusion_matrix, classification_report # metryki klasyfikacyjne\n",
    "from sklearn.preprocessing import RobustScaler, MinMaxScaler, StandardScaler # metody skalowania\n",
    "from imblearn.over_sampling import SMOTE # SMOTE - nadpróbkowanie mniejszościowych klas\n",
    "\n",
    "from sklearn.model_selection import GridSearchCV # grid search z walidacją krzyżową\n",
    "from sklearn.model_selection import RandomizedSearchCV # losowe przeszukiwanie parametrów z walidacją krzyżową\n",
    "\n",
    "# algorytmy uczenia nadzorowanego\n",
    "from sklearn.neighbors import KNeighborsClassifier # K-Najbliższych Sąsiadów\n",
    "from sklearn.naive_bayes import GaussianNB # Naiwny KLasyfikator Bayesowski\n",
    "from sklearn.tree import DecisionTreeClassifier # Drzewo Decyzyjne\n",
    "from sklearn.ensemble import RandomForestClassifier # Losowy las decuzyjny\n",
    "from sklearn.ensemble import AdaBoostClassifier # Adaptive Boosting Classifier\n",
    "from sklearn.linear_model import LogisticRegression #Regresja Logistyczna\n",
    "from sklearn.svm import SVC #Klasyfikator Algorymtu Maszyny Wektorów Nośnych\n",
    "\n",
    "# biblioteki do wizualizacji\n",
    "import matplotlib.pyplot as plt\n",
    "import seaborn as sns\n",
    "%matplotlib inline\n",
    "\n",
    "import os\n",
    "# Definiujemy ścieżkę do katalogu z danymi\n",
    "data_dir = r'C:\\ProjektInz\\PracaInz\\data'\n",
    "\n",
    "# Przeszukujemy katalog `data` i wypisujemy wszystkie pliki\n",
    "for dirname, _, filenames in os.walk(data_dir):\n",
    "    for filename in filenames:\n",
    "        print(os.path.join(dirname, filename))\n",
    "\n"
   ],
   "outputs": [
    {
     "name": "stdout",
     "output_type": "stream",
     "text": [
      "C:\\ProjektInz\\PracaInz\\data\\fraudTest.csv\n",
      "C:\\ProjektInz\\PracaInz\\data\\fraudTrain.csv\n"
     ]
    }
   ],
   "execution_count": 10
  },
  {
   "metadata": {},
   "cell_type": "code",
   "outputs": [],
   "execution_count": null,
   "source": "",
   "id": "6746f08df19b1f89"
  }
 ],
 "metadata": {
  "kernelspec": {
   "display_name": "Python 3",
   "language": "python",
   "name": "python3"
  },
  "language_info": {
   "codemirror_mode": {
    "name": "ipython",
    "version": 2
   },
   "file_extension": ".py",
   "mimetype": "text/x-python",
   "name": "python",
   "nbconvert_exporter": "python",
   "pygments_lexer": "ipython2",
   "version": "2.7.6"
  }
 },
 "nbformat": 4,
 "nbformat_minor": 5
}
